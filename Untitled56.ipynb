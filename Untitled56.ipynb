{
  "nbformat": 4,
  "nbformat_minor": 0,
  "metadata": {
    "colab": {
      "provenance": []
    },
    "kernelspec": {
      "name": "python3",
      "display_name": "Python 3"
    },
    "language_info": {
      "name": "python"
    }
  },
  "cells": [
    {
      "cell_type": "code",
      "source": [
        "import pandas as pd"
      ],
      "metadata": {
        "id": "pWDcJ9qvw7gw"
      },
      "execution_count": 6,
      "outputs": []
    },
    {
      "cell_type": "code",
      "source": [
        "data = pd.read_csv('/content/fb_sentiment.csv', index_col = 'Unnamed: 0')"
      ],
      "metadata": {
        "id": "JIPpdnj8xDQw"
      },
      "execution_count": 7,
      "outputs": []
    },
    {
      "cell_type": "code",
      "source": [
        "data.head()"
      ],
      "metadata": {
        "colab": {
          "base_uri": "https://localhost:8080/",
          "height": 204
        },
        "id": "Xq54l1jIy3_K",
        "outputId": "a006b28b-d508-45ef-9088-64709ebfe03c"
      },
      "execution_count": 8,
      "outputs": [
        {
          "output_type": "execute_result",
          "data": {
            "text/plain": [
              "                                              FBPost Label\n",
              "0  Drug Runners and  a U.S. Senator have somethin...     O\n",
              "1  Heres a single, to add, to Kindle. Just read t...     O\n",
              "2  If you tire of Non-Fiction.. Check out http://...     O\n",
              "3    Ghost of Round Island is supposedly nonfiction.     O\n",
              "4  Why is Barnes and Nobles version of the Kindle...     N"
            ],
            "text/html": [
              "\n",
              "  <div id=\"df-56a75874-41ba-4d77-adf9-24c552c15183\">\n",
              "    <div class=\"colab-df-container\">\n",
              "      <div>\n",
              "<style scoped>\n",
              "    .dataframe tbody tr th:only-of-type {\n",
              "        vertical-align: middle;\n",
              "    }\n",
              "\n",
              "    .dataframe tbody tr th {\n",
              "        vertical-align: top;\n",
              "    }\n",
              "\n",
              "    .dataframe thead th {\n",
              "        text-align: right;\n",
              "    }\n",
              "</style>\n",
              "<table border=\"1\" class=\"dataframe\">\n",
              "  <thead>\n",
              "    <tr style=\"text-align: right;\">\n",
              "      <th></th>\n",
              "      <th>FBPost</th>\n",
              "      <th>Label</th>\n",
              "    </tr>\n",
              "  </thead>\n",
              "  <tbody>\n",
              "    <tr>\n",
              "      <th>0</th>\n",
              "      <td>Drug Runners and  a U.S. Senator have somethin...</td>\n",
              "      <td>O</td>\n",
              "    </tr>\n",
              "    <tr>\n",
              "      <th>1</th>\n",
              "      <td>Heres a single, to add, to Kindle. Just read t...</td>\n",
              "      <td>O</td>\n",
              "    </tr>\n",
              "    <tr>\n",
              "      <th>2</th>\n",
              "      <td>If you tire of Non-Fiction.. Check out http://...</td>\n",
              "      <td>O</td>\n",
              "    </tr>\n",
              "    <tr>\n",
              "      <th>3</th>\n",
              "      <td>Ghost of Round Island is supposedly nonfiction.</td>\n",
              "      <td>O</td>\n",
              "    </tr>\n",
              "    <tr>\n",
              "      <th>4</th>\n",
              "      <td>Why is Barnes and Nobles version of the Kindle...</td>\n",
              "      <td>N</td>\n",
              "    </tr>\n",
              "  </tbody>\n",
              "</table>\n",
              "</div>\n",
              "      <button class=\"colab-df-convert\" onclick=\"convertToInteractive('df-56a75874-41ba-4d77-adf9-24c552c15183')\"\n",
              "              title=\"Convert this dataframe to an interactive table.\"\n",
              "              style=\"display:none;\">\n",
              "        \n",
              "  <svg xmlns=\"http://www.w3.org/2000/svg\" height=\"24px\"viewBox=\"0 0 24 24\"\n",
              "       width=\"24px\">\n",
              "    <path d=\"M0 0h24v24H0V0z\" fill=\"none\"/>\n",
              "    <path d=\"M18.56 5.44l.94 2.06.94-2.06 2.06-.94-2.06-.94-.94-2.06-.94 2.06-2.06.94zm-11 1L8.5 8.5l.94-2.06 2.06-.94-2.06-.94L8.5 2.5l-.94 2.06-2.06.94zm10 10l.94 2.06.94-2.06 2.06-.94-2.06-.94-.94-2.06-.94 2.06-2.06.94z\"/><path d=\"M17.41 7.96l-1.37-1.37c-.4-.4-.92-.59-1.43-.59-.52 0-1.04.2-1.43.59L10.3 9.45l-7.72 7.72c-.78.78-.78 2.05 0 2.83L4 21.41c.39.39.9.59 1.41.59.51 0 1.02-.2 1.41-.59l7.78-7.78 2.81-2.81c.8-.78.8-2.07 0-2.86zM5.41 20L4 18.59l7.72-7.72 1.47 1.35L5.41 20z\"/>\n",
              "  </svg>\n",
              "      </button>\n",
              "      \n",
              "  <style>\n",
              "    .colab-df-container {\n",
              "      display:flex;\n",
              "      flex-wrap:wrap;\n",
              "      gap: 12px;\n",
              "    }\n",
              "\n",
              "    .colab-df-convert {\n",
              "      background-color: #E8F0FE;\n",
              "      border: none;\n",
              "      border-radius: 50%;\n",
              "      cursor: pointer;\n",
              "      display: none;\n",
              "      fill: #1967D2;\n",
              "      height: 32px;\n",
              "      padding: 0 0 0 0;\n",
              "      width: 32px;\n",
              "    }\n",
              "\n",
              "    .colab-df-convert:hover {\n",
              "      background-color: #E2EBFA;\n",
              "      box-shadow: 0px 1px 2px rgba(60, 64, 67, 0.3), 0px 1px 3px 1px rgba(60, 64, 67, 0.15);\n",
              "      fill: #174EA6;\n",
              "    }\n",
              "\n",
              "    [theme=dark] .colab-df-convert {\n",
              "      background-color: #3B4455;\n",
              "      fill: #D2E3FC;\n",
              "    }\n",
              "\n",
              "    [theme=dark] .colab-df-convert:hover {\n",
              "      background-color: #434B5C;\n",
              "      box-shadow: 0px 1px 3px 1px rgba(0, 0, 0, 0.15);\n",
              "      filter: drop-shadow(0px 1px 2px rgba(0, 0, 0, 0.3));\n",
              "      fill: #FFFFFF;\n",
              "    }\n",
              "  </style>\n",
              "\n",
              "      <script>\n",
              "        const buttonEl =\n",
              "          document.querySelector('#df-56a75874-41ba-4d77-adf9-24c552c15183 button.colab-df-convert');\n",
              "        buttonEl.style.display =\n",
              "          google.colab.kernel.accessAllowed ? 'block' : 'none';\n",
              "\n",
              "        async function convertToInteractive(key) {\n",
              "          const element = document.querySelector('#df-56a75874-41ba-4d77-adf9-24c552c15183');\n",
              "          const dataTable =\n",
              "            await google.colab.kernel.invokeFunction('convertToInteractive',\n",
              "                                                     [key], {});\n",
              "          if (!dataTable) return;\n",
              "\n",
              "          const docLinkHtml = 'Like what you see? Visit the ' +\n",
              "            '<a target=\"_blank\" href=https://colab.research.google.com/notebooks/data_table.ipynb>data table notebook</a>'\n",
              "            + ' to learn more about interactive tables.';\n",
              "          element.innerHTML = '';\n",
              "          dataTable['output_type'] = 'display_data';\n",
              "          await google.colab.output.renderOutput(dataTable, element);\n",
              "          const docLink = document.createElement('div');\n",
              "          docLink.innerHTML = docLinkHtml;\n",
              "          element.appendChild(docLink);\n",
              "        }\n",
              "      </script>\n",
              "    </div>\n",
              "  </div>\n",
              "  "
            ]
          },
          "metadata": {},
          "execution_count": 8
        }
      ]
    },
    {
      "cell_type": "markdown",
      "source": [
        "# As a first step I would tokenise all the words"
      ],
      "metadata": {
        "id": "kofRMbTbyGTf"
      }
    },
    {
      "cell_type": "code",
      "source": [
        "!pip install stop_words"
      ],
      "metadata": {
        "colab": {
          "base_uri": "https://localhost:8080/"
        },
        "id": "Rpr4Vu-3q0mu",
        "outputId": "c67714da-5c82-43ad-ec35-7b9e0c750c01"
      },
      "execution_count": 10,
      "outputs": [
        {
          "output_type": "stream",
          "name": "stdout",
          "text": [
            "Looking in indexes: https://pypi.org/simple, https://us-python.pkg.dev/colab-wheels/public/simple/\n",
            "Collecting stop_words\n",
            "  Downloading stop-words-2018.7.23.tar.gz (31 kB)\n",
            "  Preparing metadata (setup.py) ... \u001b[?25l\u001b[?25hdone\n",
            "Building wheels for collected packages: stop_words\n",
            "  Building wheel for stop_words (setup.py) ... \u001b[?25l\u001b[?25hdone\n",
            "  Created wheel for stop_words: filename=stop_words-2018.7.23-py3-none-any.whl size=32910 sha256=a270098ac6cb30b1a4ebb66e9a57ed1becba0427f66124b7e9a8b8e1ff043f69\n",
            "  Stored in directory: /root/.cache/pip/wheels/da/d8/66/395317506a23a9d1d7de433ad6a7d9e6e16aab48cf028a0f60\n",
            "Successfully built stop_words\n",
            "Installing collected packages: stop_words\n",
            "Successfully installed stop_words-2018.7.23\n"
          ]
        }
      ]
    },
    {
      "cell_type": "markdown",
      "source": [
        "Then Delete stop words"
      ],
      "metadata": {
        "id": "XoYZ8BfMq8ig"
      }
    },
    {
      "cell_type": "code",
      "source": [
        "list(string.punctuation)"
      ],
      "metadata": {
        "colab": {
          "base_uri": "https://localhost:8080/"
        },
        "id": "c9wrm9ULsYO3",
        "outputId": "646ea32b-21b2-483e-9346-041827b4db5f"
      },
      "execution_count": 26,
      "outputs": [
        {
          "output_type": "execute_result",
          "data": {
            "text/plain": [
              "['!',\n",
              " '\"',\n",
              " '#',\n",
              " '$',\n",
              " '%',\n",
              " '&',\n",
              " \"'\",\n",
              " '(',\n",
              " ')',\n",
              " '*',\n",
              " '+',\n",
              " ',',\n",
              " '-',\n",
              " '.',\n",
              " '/',\n",
              " ':',\n",
              " ';',\n",
              " '<',\n",
              " '=',\n",
              " '>',\n",
              " '?',\n",
              " '@',\n",
              " '[',\n",
              " '\\\\',\n",
              " ']',\n",
              " '^',\n",
              " '_',\n",
              " '`',\n",
              " '{',\n",
              " '|',\n",
              " '}',\n",
              " '~']"
            ]
          },
          "metadata": {},
          "execution_count": 26
        }
      ]
    },
    {
      "cell_type": "code",
      "source": [
        "import string \n",
        "def del_punkt(word):\n",
        "  for i in list(string.punctuation):\n",
        "    word = word.replace(i, '')\n",
        "  return word"
      ],
      "metadata": {
        "id": "SRiFw_cNrfTW"
      },
      "execution_count": 27,
      "outputs": []
    },
    {
      "cell_type": "code",
      "source": [
        "del_punkt('skdj. dfs!')"
      ],
      "metadata": {
        "colab": {
          "base_uri": "https://localhost:8080/",
          "height": 37
        },
        "id": "X3GN14phr-WF",
        "outputId": "4332a3d9-e451-4ed4-cf88-4d9d5f87fc1b"
      },
      "execution_count": 28,
      "outputs": [
        {
          "output_type": "execute_result",
          "data": {
            "text/plain": [
              "'skdj dfs'"
            ],
            "application/vnd.google.colaboratory.intrinsic+json": {
              "type": "string"
            }
          },
          "metadata": {},
          "execution_count": 28
        }
      ]
    },
    {
      "cell_type": "code",
      "source": [
        "data['FBPost_tokens'] = data['FBPost'].apply(lambda x: del_punkt(x).split())"
      ],
      "metadata": {
        "id": "9IprqYLgHDi1"
      },
      "execution_count": 29,
      "outputs": []
    },
    {
      "cell_type": "code",
      "source": [
        "from stop_words import get_stop_words\n",
        "stop_words = get_stop_words('en')"
      ],
      "metadata": {
        "id": "HHnOwGZFHdnV"
      },
      "execution_count": 30,
      "outputs": []
    },
    {
      "cell_type": "code",
      "source": [
        "data['FBPost_tokens'].apply(lambda x: [i for i in x if i not in stop_words])"
      ],
      "metadata": {
        "colab": {
          "base_uri": "https://localhost:8080/"
        },
        "id": "YgM4n1kmq6_R",
        "outputId": "bfcee182-df4f-446b-b080-4cb139f09a8a"
      },
      "execution_count": 31,
      "outputs": [
        {
          "output_type": "execute_result",
          "data": {
            "text/plain": [
              "0      [Drug, Runners, US, Senator, something, Murder...\n",
              "1      [Heres, single, add, Kindle, Just, read, 19th,...\n",
              "2      [If, tire, NonFiction, Check, httpwwwamazoncom...\n",
              "3         [Ghost, Round, Island, supposedly, nonfiction]\n",
              "4      [Why, Barnes, Nobles, version, Kindle, much, e...\n",
              "                             ...                        \n",
              "995    [I, liked, Its, youth, oriented, I, think, wil...\n",
              "996    [I, think, point, commercial, even, Borders, c...\n",
              "997        [Kindle, 3, great, product, I, happier, mine]\n",
              "998    [develop, way, share, books, big, drawback, I,...\n",
              "999                                    [I, love, kindle]\n",
              "Name: FBPost_tokens, Length: 1000, dtype: object"
            ]
          },
          "metadata": {},
          "execution_count": 31
        }
      ]
    },
    {
      "cell_type": "markdown",
      "source": [
        "Actualy this code will work well only for such small dataset, but for this it is ok"
      ],
      "metadata": {
        "id": "3JdOTo3OsnLC"
      }
    },
    {
      "cell_type": "markdown",
      "source": [
        "## Now lets try to make the one_hot_encoding"
      ],
      "metadata": {
        "id": "XD4Kd96psz0H"
      }
    },
    {
      "cell_type": "code",
      "source": [
        "from sklearn.preprocessing import MultiLabelBinarizer\n",
        "\n",
        "mlb = MultiLabelBinarizer(sparse_output=True)\n",
        "\n",
        "df = data.join(\n",
        "            pd.DataFrame.sparse.from_spmatrix(\n",
        "                mlb.fit_transform(data.pop('FBPost_tokens')),\n",
        "                index=data.index,\n",
        "                columns=mlb.classes_))"
      ],
      "metadata": {
        "id": "MMBwaMcMswxw"
      },
      "execution_count": 32,
      "outputs": []
    },
    {
      "cell_type": "code",
      "source": [
        "df"
      ],
      "metadata": {
        "colab": {
          "base_uri": "https://localhost:8080/",
          "height": 633
        },
        "id": "tA41tcaWtZZo",
        "outputId": "ccbcad0e-2fc3-4eb0-d580-40faef15c3d4"
      },
      "execution_count": 33,
      "outputs": [
        {
          "output_type": "execute_result",
          "data": {
            "text/plain": [
              "                                                FBPost Label  079  1  10  100  \\\n",
              "0    Drug Runners and  a U.S. Senator have somethin...     O    0  0   0    0   \n",
              "1    Heres a single, to add, to Kindle. Just read t...     O    0  0   0    0   \n",
              "2    If you tire of Non-Fiction.. Check out http://...     O    0  0   0    0   \n",
              "3      Ghost of Round Island is supposedly nonfiction.     O    0  0   0    0   \n",
              "4    Why is Barnes and Nobles version of the Kindle...     N    0  0   0    0   \n",
              "..                                                 ...   ...  ... ..  ..  ...   \n",
              "995  I liked it.  Its youth oriented and I think th...     P    0  0   0    0   \n",
              "996  I think the point of the commercial is that, e...     P    0  0   0    0   \n",
              "997  Kindle 3 is such a great product. I could not ...     P    0  0   0    0   \n",
              "998  develop a way to share books!  that is a big d...     N    0  0   0    0   \n",
              "999                               I love my kindle! =)     P    0  0   0    0   \n",
              "\n",
              "     10oz  1100  12  12and  ...  yrs  zipper  zippers  £349  £999  ´  último  \\\n",
              "0       0     0   0      0  ...    0       0        0     0     0  0       0   \n",
              "1       0     0   0      0  ...    0       0        0     0     0  0       0   \n",
              "2       0     0   0      0  ...    0       0        0     0     0  0       0   \n",
              "3       0     0   0      0  ...    0       0        0     0     0  0       0   \n",
              "4       0     0   0      0  ...    0       0        0     0     0  0       0   \n",
              "..    ...   ...  ..    ...  ...  ...     ...      ...   ...   ... ..     ...   \n",
              "995     0     0   0      0  ...    0       0        0     0     0  0       0   \n",
              "996     0     0   0      0  ...    0       0        0     0     0  0       0   \n",
              "997     0     0   0      0  ...    0       0        0     0     0  0       0   \n",
              "998     0     0   0      0  ...    0       0        0     0     0  0       0   \n",
              "999     0     0   0      0  ...    0       0        0     0     0  0       0   \n",
              "\n",
              "     ♥  ♫  뭥미  \n",
              "0    0  0   0  \n",
              "1    0  0   0  \n",
              "2    0  0   0  \n",
              "3    0  0   0  \n",
              "4    0  0   0  \n",
              "..  .. ..  ..  \n",
              "995  0  0   0  \n",
              "996  0  0   0  \n",
              "997  0  0   0  \n",
              "998  0  0   0  \n",
              "999  0  0   0  \n",
              "\n",
              "[1000 rows x 3497 columns]"
            ],
            "text/html": [
              "\n",
              "  <div id=\"df-328e184b-8a87-4882-aff2-caf5e0ff3955\">\n",
              "    <div class=\"colab-df-container\">\n",
              "      <div>\n",
              "<style scoped>\n",
              "    .dataframe tbody tr th:only-of-type {\n",
              "        vertical-align: middle;\n",
              "    }\n",
              "\n",
              "    .dataframe tbody tr th {\n",
              "        vertical-align: top;\n",
              "    }\n",
              "\n",
              "    .dataframe thead th {\n",
              "        text-align: right;\n",
              "    }\n",
              "</style>\n",
              "<table border=\"1\" class=\"dataframe\">\n",
              "  <thead>\n",
              "    <tr style=\"text-align: right;\">\n",
              "      <th></th>\n",
              "      <th>FBPost</th>\n",
              "      <th>Label</th>\n",
              "      <th>079</th>\n",
              "      <th>1</th>\n",
              "      <th>10</th>\n",
              "      <th>100</th>\n",
              "      <th>10oz</th>\n",
              "      <th>1100</th>\n",
              "      <th>12</th>\n",
              "      <th>12and</th>\n",
              "      <th>...</th>\n",
              "      <th>yrs</th>\n",
              "      <th>zipper</th>\n",
              "      <th>zippers</th>\n",
              "      <th>£349</th>\n",
              "      <th>£999</th>\n",
              "      <th>´</th>\n",
              "      <th>último</th>\n",
              "      <th>♥</th>\n",
              "      <th>♫</th>\n",
              "      <th>뭥미</th>\n",
              "    </tr>\n",
              "  </thead>\n",
              "  <tbody>\n",
              "    <tr>\n",
              "      <th>0</th>\n",
              "      <td>Drug Runners and  a U.S. Senator have somethin...</td>\n",
              "      <td>O</td>\n",
              "      <td>0</td>\n",
              "      <td>0</td>\n",
              "      <td>0</td>\n",
              "      <td>0</td>\n",
              "      <td>0</td>\n",
              "      <td>0</td>\n",
              "      <td>0</td>\n",
              "      <td>0</td>\n",
              "      <td>...</td>\n",
              "      <td>0</td>\n",
              "      <td>0</td>\n",
              "      <td>0</td>\n",
              "      <td>0</td>\n",
              "      <td>0</td>\n",
              "      <td>0</td>\n",
              "      <td>0</td>\n",
              "      <td>0</td>\n",
              "      <td>0</td>\n",
              "      <td>0</td>\n",
              "    </tr>\n",
              "    <tr>\n",
              "      <th>1</th>\n",
              "      <td>Heres a single, to add, to Kindle. Just read t...</td>\n",
              "      <td>O</td>\n",
              "      <td>0</td>\n",
              "      <td>0</td>\n",
              "      <td>0</td>\n",
              "      <td>0</td>\n",
              "      <td>0</td>\n",
              "      <td>0</td>\n",
              "      <td>0</td>\n",
              "      <td>0</td>\n",
              "      <td>...</td>\n",
              "      <td>0</td>\n",
              "      <td>0</td>\n",
              "      <td>0</td>\n",
              "      <td>0</td>\n",
              "      <td>0</td>\n",
              "      <td>0</td>\n",
              "      <td>0</td>\n",
              "      <td>0</td>\n",
              "      <td>0</td>\n",
              "      <td>0</td>\n",
              "    </tr>\n",
              "    <tr>\n",
              "      <th>2</th>\n",
              "      <td>If you tire of Non-Fiction.. Check out http://...</td>\n",
              "      <td>O</td>\n",
              "      <td>0</td>\n",
              "      <td>0</td>\n",
              "      <td>0</td>\n",
              "      <td>0</td>\n",
              "      <td>0</td>\n",
              "      <td>0</td>\n",
              "      <td>0</td>\n",
              "      <td>0</td>\n",
              "      <td>...</td>\n",
              "      <td>0</td>\n",
              "      <td>0</td>\n",
              "      <td>0</td>\n",
              "      <td>0</td>\n",
              "      <td>0</td>\n",
              "      <td>0</td>\n",
              "      <td>0</td>\n",
              "      <td>0</td>\n",
              "      <td>0</td>\n",
              "      <td>0</td>\n",
              "    </tr>\n",
              "    <tr>\n",
              "      <th>3</th>\n",
              "      <td>Ghost of Round Island is supposedly nonfiction.</td>\n",
              "      <td>O</td>\n",
              "      <td>0</td>\n",
              "      <td>0</td>\n",
              "      <td>0</td>\n",
              "      <td>0</td>\n",
              "      <td>0</td>\n",
              "      <td>0</td>\n",
              "      <td>0</td>\n",
              "      <td>0</td>\n",
              "      <td>...</td>\n",
              "      <td>0</td>\n",
              "      <td>0</td>\n",
              "      <td>0</td>\n",
              "      <td>0</td>\n",
              "      <td>0</td>\n",
              "      <td>0</td>\n",
              "      <td>0</td>\n",
              "      <td>0</td>\n",
              "      <td>0</td>\n",
              "      <td>0</td>\n",
              "    </tr>\n",
              "    <tr>\n",
              "      <th>4</th>\n",
              "      <td>Why is Barnes and Nobles version of the Kindle...</td>\n",
              "      <td>N</td>\n",
              "      <td>0</td>\n",
              "      <td>0</td>\n",
              "      <td>0</td>\n",
              "      <td>0</td>\n",
              "      <td>0</td>\n",
              "      <td>0</td>\n",
              "      <td>0</td>\n",
              "      <td>0</td>\n",
              "      <td>...</td>\n",
              "      <td>0</td>\n",
              "      <td>0</td>\n",
              "      <td>0</td>\n",
              "      <td>0</td>\n",
              "      <td>0</td>\n",
              "      <td>0</td>\n",
              "      <td>0</td>\n",
              "      <td>0</td>\n",
              "      <td>0</td>\n",
              "      <td>0</td>\n",
              "    </tr>\n",
              "    <tr>\n",
              "      <th>...</th>\n",
              "      <td>...</td>\n",
              "      <td>...</td>\n",
              "      <td>...</td>\n",
              "      <td>...</td>\n",
              "      <td>...</td>\n",
              "      <td>...</td>\n",
              "      <td>...</td>\n",
              "      <td>...</td>\n",
              "      <td>...</td>\n",
              "      <td>...</td>\n",
              "      <td>...</td>\n",
              "      <td>...</td>\n",
              "      <td>...</td>\n",
              "      <td>...</td>\n",
              "      <td>...</td>\n",
              "      <td>...</td>\n",
              "      <td>...</td>\n",
              "      <td>...</td>\n",
              "      <td>...</td>\n",
              "      <td>...</td>\n",
              "      <td>...</td>\n",
              "    </tr>\n",
              "    <tr>\n",
              "      <th>995</th>\n",
              "      <td>I liked it.  Its youth oriented and I think th...</td>\n",
              "      <td>P</td>\n",
              "      <td>0</td>\n",
              "      <td>0</td>\n",
              "      <td>0</td>\n",
              "      <td>0</td>\n",
              "      <td>0</td>\n",
              "      <td>0</td>\n",
              "      <td>0</td>\n",
              "      <td>0</td>\n",
              "      <td>...</td>\n",
              "      <td>0</td>\n",
              "      <td>0</td>\n",
              "      <td>0</td>\n",
              "      <td>0</td>\n",
              "      <td>0</td>\n",
              "      <td>0</td>\n",
              "      <td>0</td>\n",
              "      <td>0</td>\n",
              "      <td>0</td>\n",
              "      <td>0</td>\n",
              "    </tr>\n",
              "    <tr>\n",
              "      <th>996</th>\n",
              "      <td>I think the point of the commercial is that, e...</td>\n",
              "      <td>P</td>\n",
              "      <td>0</td>\n",
              "      <td>0</td>\n",
              "      <td>0</td>\n",
              "      <td>0</td>\n",
              "      <td>0</td>\n",
              "      <td>0</td>\n",
              "      <td>0</td>\n",
              "      <td>0</td>\n",
              "      <td>...</td>\n",
              "      <td>0</td>\n",
              "      <td>0</td>\n",
              "      <td>0</td>\n",
              "      <td>0</td>\n",
              "      <td>0</td>\n",
              "      <td>0</td>\n",
              "      <td>0</td>\n",
              "      <td>0</td>\n",
              "      <td>0</td>\n",
              "      <td>0</td>\n",
              "    </tr>\n",
              "    <tr>\n",
              "      <th>997</th>\n",
              "      <td>Kindle 3 is such a great product. I could not ...</td>\n",
              "      <td>P</td>\n",
              "      <td>0</td>\n",
              "      <td>0</td>\n",
              "      <td>0</td>\n",
              "      <td>0</td>\n",
              "      <td>0</td>\n",
              "      <td>0</td>\n",
              "      <td>0</td>\n",
              "      <td>0</td>\n",
              "      <td>...</td>\n",
              "      <td>0</td>\n",
              "      <td>0</td>\n",
              "      <td>0</td>\n",
              "      <td>0</td>\n",
              "      <td>0</td>\n",
              "      <td>0</td>\n",
              "      <td>0</td>\n",
              "      <td>0</td>\n",
              "      <td>0</td>\n",
              "      <td>0</td>\n",
              "    </tr>\n",
              "    <tr>\n",
              "      <th>998</th>\n",
              "      <td>develop a way to share books!  that is a big d...</td>\n",
              "      <td>N</td>\n",
              "      <td>0</td>\n",
              "      <td>0</td>\n",
              "      <td>0</td>\n",
              "      <td>0</td>\n",
              "      <td>0</td>\n",
              "      <td>0</td>\n",
              "      <td>0</td>\n",
              "      <td>0</td>\n",
              "      <td>...</td>\n",
              "      <td>0</td>\n",
              "      <td>0</td>\n",
              "      <td>0</td>\n",
              "      <td>0</td>\n",
              "      <td>0</td>\n",
              "      <td>0</td>\n",
              "      <td>0</td>\n",
              "      <td>0</td>\n",
              "      <td>0</td>\n",
              "      <td>0</td>\n",
              "    </tr>\n",
              "    <tr>\n",
              "      <th>999</th>\n",
              "      <td>I love my kindle! =)</td>\n",
              "      <td>P</td>\n",
              "      <td>0</td>\n",
              "      <td>0</td>\n",
              "      <td>0</td>\n",
              "      <td>0</td>\n",
              "      <td>0</td>\n",
              "      <td>0</td>\n",
              "      <td>0</td>\n",
              "      <td>0</td>\n",
              "      <td>...</td>\n",
              "      <td>0</td>\n",
              "      <td>0</td>\n",
              "      <td>0</td>\n",
              "      <td>0</td>\n",
              "      <td>0</td>\n",
              "      <td>0</td>\n",
              "      <td>0</td>\n",
              "      <td>0</td>\n",
              "      <td>0</td>\n",
              "      <td>0</td>\n",
              "    </tr>\n",
              "  </tbody>\n",
              "</table>\n",
              "<p>1000 rows × 3497 columns</p>\n",
              "</div>\n",
              "      <button class=\"colab-df-convert\" onclick=\"convertToInteractive('df-328e184b-8a87-4882-aff2-caf5e0ff3955')\"\n",
              "              title=\"Convert this dataframe to an interactive table.\"\n",
              "              style=\"display:none;\">\n",
              "        \n",
              "  <svg xmlns=\"http://www.w3.org/2000/svg\" height=\"24px\"viewBox=\"0 0 24 24\"\n",
              "       width=\"24px\">\n",
              "    <path d=\"M0 0h24v24H0V0z\" fill=\"none\"/>\n",
              "    <path d=\"M18.56 5.44l.94 2.06.94-2.06 2.06-.94-2.06-.94-.94-2.06-.94 2.06-2.06.94zm-11 1L8.5 8.5l.94-2.06 2.06-.94-2.06-.94L8.5 2.5l-.94 2.06-2.06.94zm10 10l.94 2.06.94-2.06 2.06-.94-2.06-.94-.94-2.06-.94 2.06-2.06.94z\"/><path d=\"M17.41 7.96l-1.37-1.37c-.4-.4-.92-.59-1.43-.59-.52 0-1.04.2-1.43.59L10.3 9.45l-7.72 7.72c-.78.78-.78 2.05 0 2.83L4 21.41c.39.39.9.59 1.41.59.51 0 1.02-.2 1.41-.59l7.78-7.78 2.81-2.81c.8-.78.8-2.07 0-2.86zM5.41 20L4 18.59l7.72-7.72 1.47 1.35L5.41 20z\"/>\n",
              "  </svg>\n",
              "      </button>\n",
              "      \n",
              "  <style>\n",
              "    .colab-df-container {\n",
              "      display:flex;\n",
              "      flex-wrap:wrap;\n",
              "      gap: 12px;\n",
              "    }\n",
              "\n",
              "    .colab-df-convert {\n",
              "      background-color: #E8F0FE;\n",
              "      border: none;\n",
              "      border-radius: 50%;\n",
              "      cursor: pointer;\n",
              "      display: none;\n",
              "      fill: #1967D2;\n",
              "      height: 32px;\n",
              "      padding: 0 0 0 0;\n",
              "      width: 32px;\n",
              "    }\n",
              "\n",
              "    .colab-df-convert:hover {\n",
              "      background-color: #E2EBFA;\n",
              "      box-shadow: 0px 1px 2px rgba(60, 64, 67, 0.3), 0px 1px 3px 1px rgba(60, 64, 67, 0.15);\n",
              "      fill: #174EA6;\n",
              "    }\n",
              "\n",
              "    [theme=dark] .colab-df-convert {\n",
              "      background-color: #3B4455;\n",
              "      fill: #D2E3FC;\n",
              "    }\n",
              "\n",
              "    [theme=dark] .colab-df-convert:hover {\n",
              "      background-color: #434B5C;\n",
              "      box-shadow: 0px 1px 3px 1px rgba(0, 0, 0, 0.15);\n",
              "      filter: drop-shadow(0px 1px 2px rgba(0, 0, 0, 0.3));\n",
              "      fill: #FFFFFF;\n",
              "    }\n",
              "  </style>\n",
              "\n",
              "      <script>\n",
              "        const buttonEl =\n",
              "          document.querySelector('#df-328e184b-8a87-4882-aff2-caf5e0ff3955 button.colab-df-convert');\n",
              "        buttonEl.style.display =\n",
              "          google.colab.kernel.accessAllowed ? 'block' : 'none';\n",
              "\n",
              "        async function convertToInteractive(key) {\n",
              "          const element = document.querySelector('#df-328e184b-8a87-4882-aff2-caf5e0ff3955');\n",
              "          const dataTable =\n",
              "            await google.colab.kernel.invokeFunction('convertToInteractive',\n",
              "                                                     [key], {});\n",
              "          if (!dataTable) return;\n",
              "\n",
              "          const docLinkHtml = 'Like what you see? Visit the ' +\n",
              "            '<a target=\"_blank\" href=https://colab.research.google.com/notebooks/data_table.ipynb>data table notebook</a>'\n",
              "            + ' to learn more about interactive tables.';\n",
              "          element.innerHTML = '';\n",
              "          dataTable['output_type'] = 'display_data';\n",
              "          await google.colab.output.renderOutput(dataTable, element);\n",
              "          const docLink = document.createElement('div');\n",
              "          docLink.innerHTML = docLinkHtml;\n",
              "          element.appendChild(docLink);\n",
              "        }\n",
              "      </script>\n",
              "    </div>\n",
              "  </div>\n",
              "  "
            ]
          },
          "metadata": {},
          "execution_count": 33
        }
      ]
    },
    {
      "cell_type": "markdown",
      "source": [
        "As we have sucha small dataset I dont think a deep learning model will wok better then just plane ML model"
      ],
      "metadata": {
        "id": "Ekv-2XEMtpU6"
      }
    },
    {
      "cell_type": "code",
      "source": [
        "from catboost import Pool, CatBoostClassifier\n",
        "from sklearn.model_selection import train_test_split\n",
        "from sklearn.metrics import roc_auc_score"
      ],
      "metadata": {
        "id": "JCFNoYKTtoZE"
      },
      "execution_count": 43,
      "outputs": []
    },
    {
      "cell_type": "code",
      "source": [
        "params = ['mod','score','name','df' 'eval_metric', 'boosting_type','iterations', 'depth', 'loss_function', 'learning_rate', 'score_function', 'csv_model']\n",
        "df_my_res = pd.DataFrame(columns =params )"
      ],
      "metadata": {
        "id": "Jtn65v12vAg2"
      },
      "execution_count": 40,
      "outputs": []
    },
    {
      "cell_type": "code",
      "source": [
        "train, test = train_test_split(df, test_size=0.2, random_state=1337)\n",
        "test_data=test.drop(['Label', 'FBPost'], axis = 1)\n",
        "test_labels =pd.DataFrame(test['Label'])\n",
        "\n",
        "X_train = train.drop(['Label', 'FBPost'], axis = 1)\n",
        "Y_train = pd.DataFrame(train['Label'])\n",
        "    \n",
        "x, x_v, y, y_v = train_test_split(X_train, Y_train, test_size=0.1, random_state=1337)\n",
        "\n",
        "train_dataset = Pool(data=x,\n",
        "                     label=y)\n",
        "\n",
        "eval_dataset = Pool(data=x_v,\n",
        "                    label=y_v)\n",
        "\n",
        "test_dataset = Pool(data=test_data,\n",
        "                    label=test_labels)\n",
        "\n",
        "model = CatBoostClassifier(iterations=100,\n",
        "                           learning_rate=0.1,\n",
        "                           depth=2,\n",
        "                           loss_function='MultiClass')\n",
        "\n",
        "# Fit model\n",
        "model.fit(train_dataset, eval_set = eval_dataset)\n",
        "# Get predicted classes\n",
        "preds_class = model.predict(test_dataset)\n",
        "# Get predicted probabilities for each class\n",
        "preds_proba = model.predict_proba(test_dataset)\n",
        "# Get predicted RawFormulaVal\n",
        "preds_raw = model.predict(test_dataset,\n",
        "                          prediction_type='RawFormulaVal')"
      ],
      "metadata": {
        "colab": {
          "base_uri": "https://localhost:8080/"
        },
        "id": "9KgsB5Rnw8W1",
        "outputId": "ed8f6eb5-4fd7-44b1-dd87-50b645cea173"
      },
      "execution_count": 53,
      "outputs": [
        {
          "output_type": "stream",
          "name": "stdout",
          "text": [
            "0:\tlearn: 1.0417615\ttest: 1.0515014\tbest: 1.0515014 (0)\ttotal: 3.76ms\tremaining: 372ms\n",
            "1:\tlearn: 1.0071151\ttest: 1.0106793\tbest: 1.0106793 (1)\ttotal: 7.8ms\tremaining: 382ms\n",
            "2:\tlearn: 0.9789025\ttest: 0.9773640\tbest: 0.9773640 (2)\ttotal: 11.4ms\tremaining: 368ms\n",
            "3:\tlearn: 0.9461606\ttest: 0.9522600\tbest: 0.9522600 (3)\ttotal: 15.1ms\tremaining: 362ms\n",
            "4:\tlearn: 0.9193500\ttest: 0.9317308\tbest: 0.9317308 (4)\ttotal: 18.8ms\tremaining: 358ms\n",
            "5:\tlearn: 0.9034777\ttest: 0.9122708\tbest: 0.9122708 (5)\ttotal: 22.5ms\tremaining: 353ms\n",
            "6:\tlearn: 0.8899122\ttest: 0.8952501\tbest: 0.8952501 (6)\ttotal: 26.1ms\tremaining: 347ms\n",
            "7:\tlearn: 0.8782107\ttest: 0.8811058\tbest: 0.8811058 (7)\ttotal: 29.7ms\tremaining: 342ms\n",
            "8:\tlearn: 0.8622510\ttest: 0.8713042\tbest: 0.8713042 (8)\ttotal: 33.7ms\tremaining: 341ms\n",
            "9:\tlearn: 0.8483856\ttest: 0.8630220\tbest: 0.8630220 (9)\ttotal: 37.4ms\tremaining: 336ms\n",
            "10:\tlearn: 0.8376415\ttest: 0.8538415\tbest: 0.8538415 (10)\ttotal: 42.9ms\tremaining: 347ms\n",
            "11:\tlearn: 0.8321355\ttest: 0.8464275\tbest: 0.8464275 (11)\ttotal: 51ms\tremaining: 374ms\n",
            "12:\tlearn: 0.8240659\ttest: 0.8354347\tbest: 0.8354347 (12)\ttotal: 63.7ms\tremaining: 426ms\n",
            "13:\tlearn: 0.8132260\ttest: 0.8313826\tbest: 0.8313826 (13)\ttotal: 70.5ms\tremaining: 433ms\n",
            "14:\tlearn: 0.8094441\ttest: 0.8262726\tbest: 0.8262726 (14)\ttotal: 79.5ms\tremaining: 450ms\n",
            "15:\tlearn: 0.8067554\ttest: 0.8223020\tbest: 0.8223020 (15)\ttotal: 88.5ms\tremaining: 464ms\n",
            "16:\tlearn: 0.7971371\ttest: 0.8190014\tbest: 0.8190014 (16)\ttotal: 97.5ms\tremaining: 476ms\n",
            "17:\tlearn: 0.7912340\ttest: 0.8177024\tbest: 0.8177024 (17)\ttotal: 107ms\tremaining: 486ms\n",
            "18:\tlearn: 0.7863591\ttest: 0.8106242\tbest: 0.8106242 (18)\ttotal: 117ms\tremaining: 500ms\n",
            "19:\tlearn: 0.7820704\ttest: 0.8045112\tbest: 0.8045112 (19)\ttotal: 127ms\tremaining: 507ms\n",
            "20:\tlearn: 0.7775997\ttest: 0.8019190\tbest: 0.8019190 (20)\ttotal: 136ms\tremaining: 513ms\n",
            "21:\tlearn: 0.7701895\ttest: 0.7985680\tbest: 0.7985680 (21)\ttotal: 146ms\tremaining: 517ms\n",
            "22:\tlearn: 0.7668951\ttest: 0.7974454\tbest: 0.7974454 (22)\ttotal: 155ms\tremaining: 519ms\n",
            "23:\tlearn: 0.7660847\ttest: 0.7961438\tbest: 0.7961438 (23)\ttotal: 166ms\tremaining: 525ms\n",
            "24:\tlearn: 0.7648410\ttest: 0.7952109\tbest: 0.7952109 (24)\ttotal: 175ms\tremaining: 526ms\n",
            "25:\tlearn: 0.7625600\ttest: 0.7924055\tbest: 0.7924055 (25)\ttotal: 185ms\tremaining: 526ms\n",
            "26:\tlearn: 0.7616286\ttest: 0.7913167\tbest: 0.7913167 (26)\ttotal: 197ms\tremaining: 532ms\n",
            "27:\tlearn: 0.7610984\ttest: 0.7904717\tbest: 0.7904717 (27)\ttotal: 203ms\tremaining: 523ms\n",
            "28:\tlearn: 0.7590106\ttest: 0.7877691\tbest: 0.7877691 (28)\ttotal: 212ms\tremaining: 520ms\n",
            "29:\tlearn: 0.7572122\ttest: 0.7856896\tbest: 0.7856896 (29)\ttotal: 221ms\tremaining: 517ms\n",
            "30:\tlearn: 0.7567942\ttest: 0.7841278\tbest: 0.7841278 (30)\ttotal: 227ms\tremaining: 506ms\n",
            "31:\tlearn: 0.7561123\ttest: 0.7837659\tbest: 0.7837659 (31)\ttotal: 236ms\tremaining: 502ms\n",
            "32:\tlearn: 0.7555449\ttest: 0.7832756\tbest: 0.7832756 (32)\ttotal: 245ms\tremaining: 498ms\n",
            "33:\tlearn: 0.7506171\ttest: 0.7851288\tbest: 0.7832756 (32)\ttotal: 255ms\tremaining: 494ms\n",
            "34:\tlearn: 0.7498961\ttest: 0.7840154\tbest: 0.7832756 (32)\ttotal: 264ms\tremaining: 490ms\n",
            "35:\tlearn: 0.7497217\ttest: 0.7836909\tbest: 0.7832756 (32)\ttotal: 273ms\tremaining: 485ms\n",
            "36:\tlearn: 0.7476147\ttest: 0.7805965\tbest: 0.7805965 (36)\ttotal: 282ms\tremaining: 481ms\n",
            "37:\tlearn: 0.7475265\ttest: 0.7803408\tbest: 0.7803408 (37)\ttotal: 291ms\tremaining: 475ms\n",
            "38:\tlearn: 0.7471857\ttest: 0.7801343\tbest: 0.7801343 (38)\ttotal: 301ms\tremaining: 470ms\n",
            "39:\tlearn: 0.7455703\ttest: 0.7787334\tbest: 0.7787334 (39)\ttotal: 309ms\tremaining: 464ms\n",
            "40:\tlearn: 0.7438995\ttest: 0.7772011\tbest: 0.7772011 (40)\ttotal: 318ms\tremaining: 458ms\n",
            "41:\tlearn: 0.7437170\ttest: 0.7769932\tbest: 0.7769932 (41)\ttotal: 329ms\tremaining: 455ms\n",
            "42:\tlearn: 0.7422027\ttest: 0.7741444\tbest: 0.7741444 (42)\ttotal: 338ms\tremaining: 449ms\n",
            "43:\tlearn: 0.7408630\ttest: 0.7739351\tbest: 0.7739351 (43)\ttotal: 342ms\tremaining: 436ms\n",
            "44:\tlearn: 0.7407683\ttest: 0.7738075\tbest: 0.7738075 (44)\ttotal: 346ms\tremaining: 423ms\n",
            "45:\tlearn: 0.7398114\ttest: 0.7707190\tbest: 0.7707190 (45)\ttotal: 350ms\tremaining: 410ms\n",
            "46:\tlearn: 0.7392663\ttest: 0.7709581\tbest: 0.7707190 (45)\ttotal: 365ms\tremaining: 412ms\n",
            "47:\tlearn: 0.7373196\ttest: 0.7684890\tbest: 0.7684890 (47)\ttotal: 371ms\tremaining: 402ms\n",
            "48:\tlearn: 0.7368175\ttest: 0.7684472\tbest: 0.7684472 (48)\ttotal: 384ms\tremaining: 399ms\n",
            "49:\tlearn: 0.7359505\ttest: 0.7676798\tbest: 0.7676798 (49)\ttotal: 390ms\tremaining: 390ms\n",
            "50:\tlearn: 0.7349741\ttest: 0.7676043\tbest: 0.7676043 (50)\ttotal: 398ms\tremaining: 382ms\n",
            "51:\tlearn: 0.7343561\ttest: 0.7679957\tbest: 0.7676043 (50)\ttotal: 406ms\tremaining: 375ms\n",
            "52:\tlearn: 0.7342515\ttest: 0.7679839\tbest: 0.7676043 (50)\ttotal: 415ms\tremaining: 368ms\n",
            "53:\tlearn: 0.7304592\ttest: 0.7686846\tbest: 0.7676043 (50)\ttotal: 423ms\tremaining: 361ms\n",
            "54:\tlearn: 0.7289524\ttest: 0.7663405\tbest: 0.7663405 (54)\ttotal: 432ms\tremaining: 354ms\n",
            "55:\tlearn: 0.7287140\ttest: 0.7661601\tbest: 0.7661601 (55)\ttotal: 441ms\tremaining: 346ms\n",
            "56:\tlearn: 0.7286471\ttest: 0.7661684\tbest: 0.7661601 (55)\ttotal: 450ms\tremaining: 339ms\n",
            "57:\tlearn: 0.7273462\ttest: 0.7659739\tbest: 0.7659739 (57)\ttotal: 458ms\tremaining: 332ms\n",
            "58:\tlearn: 0.7271257\ttest: 0.7659119\tbest: 0.7659119 (58)\ttotal: 467ms\tremaining: 325ms\n",
            "59:\tlearn: 0.7248293\ttest: 0.7651796\tbest: 0.7651796 (59)\ttotal: 476ms\tremaining: 317ms\n",
            "60:\tlearn: 0.7234404\ttest: 0.7646905\tbest: 0.7646905 (60)\ttotal: 485ms\tremaining: 310ms\n",
            "61:\tlearn: 0.7232939\ttest: 0.7645965\tbest: 0.7645965 (61)\ttotal: 494ms\tremaining: 303ms\n",
            "62:\tlearn: 0.7227600\ttest: 0.7649964\tbest: 0.7645965 (61)\ttotal: 503ms\tremaining: 295ms\n",
            "63:\tlearn: 0.7222028\ttest: 0.7648901\tbest: 0.7645965 (61)\ttotal: 511ms\tremaining: 288ms\n",
            "64:\tlearn: 0.7195394\ttest: 0.7664665\tbest: 0.7645965 (61)\ttotal: 520ms\tremaining: 280ms\n",
            "65:\tlearn: 0.7169583\ttest: 0.7642714\tbest: 0.7642714 (65)\ttotal: 529ms\tremaining: 273ms\n",
            "66:\tlearn: 0.7168656\ttest: 0.7644035\tbest: 0.7642714 (65)\ttotal: 538ms\tremaining: 265ms\n",
            "67:\tlearn: 0.7160651\ttest: 0.7631502\tbest: 0.7631502 (67)\ttotal: 546ms\tremaining: 257ms\n",
            "68:\tlearn: 0.7149952\ttest: 0.7631176\tbest: 0.7631176 (68)\ttotal: 555ms\tremaining: 249ms\n",
            "69:\tlearn: 0.7146017\ttest: 0.7631272\tbest: 0.7631176 (68)\ttotal: 563ms\tremaining: 241ms\n",
            "70:\tlearn: 0.7139856\ttest: 0.7621780\tbest: 0.7621780 (70)\ttotal: 578ms\tremaining: 236ms\n",
            "71:\tlearn: 0.7120568\ttest: 0.7596766\tbest: 0.7596766 (71)\ttotal: 584ms\tremaining: 227ms\n",
            "72:\tlearn: 0.7110290\ttest: 0.7594555\tbest: 0.7594555 (72)\ttotal: 593ms\tremaining: 219ms\n",
            "73:\tlearn: 0.7106578\ttest: 0.7594974\tbest: 0.7594555 (72)\ttotal: 602ms\tremaining: 211ms\n",
            "74:\tlearn: 0.7086889\ttest: 0.7533235\tbest: 0.7533235 (74)\ttotal: 612ms\tremaining: 204ms\n",
            "75:\tlearn: 0.7077776\ttest: 0.7526622\tbest: 0.7526622 (75)\ttotal: 619ms\tremaining: 195ms\n",
            "76:\tlearn: 0.7073466\ttest: 0.7526625\tbest: 0.7526622 (75)\ttotal: 628ms\tremaining: 188ms\n",
            "77:\tlearn: 0.7068446\ttest: 0.7525300\tbest: 0.7525300 (77)\ttotal: 637ms\tremaining: 180ms\n",
            "78:\tlearn: 0.7049468\ttest: 0.7529507\tbest: 0.7525300 (77)\ttotal: 647ms\tremaining: 172ms\n",
            "79:\tlearn: 0.7042180\ttest: 0.7527836\tbest: 0.7525300 (77)\ttotal: 656ms\tremaining: 164ms\n",
            "80:\tlearn: 0.7030235\ttest: 0.7523983\tbest: 0.7523983 (80)\ttotal: 665ms\tremaining: 156ms\n",
            "81:\tlearn: 0.7023665\ttest: 0.7522547\tbest: 0.7522547 (81)\ttotal: 674ms\tremaining: 148ms\n",
            "82:\tlearn: 0.7009844\ttest: 0.7484586\tbest: 0.7484586 (82)\ttotal: 680ms\tremaining: 139ms\n",
            "83:\tlearn: 0.6993606\ttest: 0.7463019\tbest: 0.7463019 (83)\ttotal: 688ms\tremaining: 131ms\n",
            "84:\tlearn: 0.6985986\ttest: 0.7460067\tbest: 0.7460067 (84)\ttotal: 697ms\tremaining: 123ms\n",
            "85:\tlearn: 0.6951668\ttest: 0.7477337\tbest: 0.7460067 (84)\ttotal: 706ms\tremaining: 115ms\n",
            "86:\tlearn: 0.6943618\ttest: 0.7477122\tbest: 0.7460067 (84)\ttotal: 722ms\tremaining: 108ms\n",
            "87:\tlearn: 0.6936240\ttest: 0.7476878\tbest: 0.7460067 (84)\ttotal: 728ms\tremaining: 99.3ms\n",
            "88:\tlearn: 0.6908827\ttest: 0.7435902\tbest: 0.7435902 (88)\ttotal: 738ms\tremaining: 91.2ms\n",
            "89:\tlearn: 0.6903725\ttest: 0.7434523\tbest: 0.7434523 (89)\ttotal: 747ms\tremaining: 83ms\n",
            "90:\tlearn: 0.6896936\ttest: 0.7436649\tbest: 0.7434523 (89)\ttotal: 756ms\tremaining: 74.7ms\n",
            "91:\tlearn: 0.6894727\ttest: 0.7436591\tbest: 0.7434523 (89)\ttotal: 767ms\tremaining: 66.7ms\n",
            "92:\tlearn: 0.6888693\ttest: 0.7424660\tbest: 0.7424660 (92)\ttotal: 773ms\tremaining: 58.2ms\n",
            "93:\tlearn: 0.6882616\ttest: 0.7423329\tbest: 0.7423329 (93)\ttotal: 782ms\tremaining: 49.9ms\n",
            "94:\tlearn: 0.6872773\ttest: 0.7417800\tbest: 0.7417800 (94)\ttotal: 791ms\tremaining: 41.6ms\n",
            "95:\tlearn: 0.6869559\ttest: 0.7412343\tbest: 0.7412343 (95)\ttotal: 800ms\tremaining: 33.3ms\n",
            "96:\tlearn: 0.6839895\ttest: 0.7428926\tbest: 0.7412343 (95)\ttotal: 809ms\tremaining: 25ms\n",
            "97:\tlearn: 0.6828930\ttest: 0.7426727\tbest: 0.7412343 (95)\ttotal: 818ms\tremaining: 16.7ms\n",
            "98:\tlearn: 0.6805386\ttest: 0.7405039\tbest: 0.7405039 (98)\ttotal: 827ms\tremaining: 8.36ms\n",
            "99:\tlearn: 0.6799644\ttest: 0.7410654\tbest: 0.7405039 (98)\ttotal: 836ms\tremaining: 0us\n",
            "\n",
            "bestTest = 0.7405038925\n",
            "bestIteration = 98\n",
            "\n",
            "Shrink model to first 99 iterations.\n"
          ]
        }
      ]
    },
    {
      "cell_type": "code",
      "source": [
        "from sklearn.metrics import confusion_matrix\n",
        "from sklearn.metrics import accuracy_score, precision_score, recall_score, f1_score\n",
        "from sklearn.metrics import classification_report"
      ],
      "metadata": {
        "id": "d9M5U6jh4Zd3"
      },
      "execution_count": 76,
      "outputs": []
    },
    {
      "cell_type": "code",
      "source": [
        "\n",
        "confusion = confusion_matrix(test_labels, preds_class)\n",
        "print('Confusion Matrix\\n')\n",
        "print(confusion)\n",
        "\n",
        "#importing accuracy_score, precision_score, recall_score, f1_score\n",
        "\n",
        "print('\\nAccuracy: {:.2f}\\n'.format(accuracy_score(test_labels, preds_class)))\n",
        "\n",
        "print('Micro Precision: {:.2f}'.format(precision_score(test_labels, preds_class, average='micro')))\n",
        "print('Micro Recall: {:.2f}'.format(recall_score(test_labels, preds_class, average='micro')))\n",
        "print('Micro F1-score: {:.2f}\\n'.format(f1_score(test_labels, preds_class, average='micro')))\n",
        "\n",
        "print('Macro Precision: {:.2f}'.format(precision_score(test_labels, preds_class, average='macro')))\n",
        "print('Macro Recall: {:.2f}'.format(recall_score(test_labels, preds_class, average='macro')))\n",
        "print('Macro F1-score: {:.2f}\\n'.format(f1_score(test_labels, preds_class, average='macro')))\n",
        "\n",
        "print('Weighted Precision: {:.2f}'.format(precision_score(test_labels, preds_class, average='weighted')))\n",
        "print('Weighted Recall: {:.2f}'.format(recall_score(test_labels, preds_class, average='weighted')))\n",
        "print('Weighted F1-score: {:.2f}'.format(f1_score(test_labels, preds_class, average='weighted')))\n",
        "\n",
        "\n",
        "print('\\nClassification Report\\n')\n",
        "print(classification_report(test_labels, preds_class, target_names=['N', 'O', 'P']))"
      ],
      "metadata": {
        "colab": {
          "base_uri": "https://localhost:8080/"
        },
        "id": "z9BWtSyl1lCM",
        "outputId": "0d647cf5-e51f-4fd6-c181-9815002152ed"
      },
      "execution_count": 79,
      "outputs": [
        {
          "output_type": "stream",
          "name": "stdout",
          "text": [
            "Confusion Matrix\n",
            "\n",
            "[[  0   0  11]\n",
            " [  0   4  54]\n",
            " [  0   1 130]]\n",
            "\n",
            "Accuracy: 0.67\n",
            "\n",
            "Micro Precision: 0.67\n",
            "Micro Recall: 0.67\n",
            "Micro F1-score: 0.67\n",
            "\n",
            "Macro Precision: 0.49\n",
            "Macro Recall: 0.35\n",
            "Macro F1-score: 0.31\n",
            "\n",
            "Weighted Precision: 0.67\n",
            "Weighted Recall: 0.67\n",
            "Weighted F1-score: 0.56\n",
            "\n",
            "Classification Report\n",
            "\n",
            "              precision    recall  f1-score   support\n",
            "\n",
            "           N       0.00      0.00      0.00        11\n",
            "           O       0.80      0.07      0.13        58\n",
            "           P       0.67      0.99      0.80       131\n",
            "\n",
            "    accuracy                           0.67       200\n",
            "   macro avg       0.49      0.35      0.31       200\n",
            "weighted avg       0.67      0.67      0.56       200\n",
            "\n"
          ]
        },
        {
          "output_type": "stream",
          "name": "stderr",
          "text": [
            "/usr/local/lib/python3.9/dist-packages/sklearn/metrics/_classification.py:1344: UndefinedMetricWarning: Precision is ill-defined and being set to 0.0 in labels with no predicted samples. Use `zero_division` parameter to control this behavior.\n",
            "  _warn_prf(average, modifier, msg_start, len(result))\n",
            "/usr/local/lib/python3.9/dist-packages/sklearn/metrics/_classification.py:1344: UndefinedMetricWarning: Precision is ill-defined and being set to 0.0 in labels with no predicted samples. Use `zero_division` parameter to control this behavior.\n",
            "  _warn_prf(average, modifier, msg_start, len(result))\n",
            "/usr/local/lib/python3.9/dist-packages/sklearn/metrics/_classification.py:1344: UndefinedMetricWarning: Precision and F-score are ill-defined and being set to 0.0 in labels with no predicted samples. Use `zero_division` parameter to control this behavior.\n",
            "  _warn_prf(average, modifier, msg_start, len(result))\n",
            "/usr/local/lib/python3.9/dist-packages/sklearn/metrics/_classification.py:1344: UndefinedMetricWarning: Precision and F-score are ill-defined and being set to 0.0 in labels with no predicted samples. Use `zero_division` parameter to control this behavior.\n",
            "  _warn_prf(average, modifier, msg_start, len(result))\n",
            "/usr/local/lib/python3.9/dist-packages/sklearn/metrics/_classification.py:1344: UndefinedMetricWarning: Precision and F-score are ill-defined and being set to 0.0 in labels with no predicted samples. Use `zero_division` parameter to control this behavior.\n",
            "  _warn_prf(average, modifier, msg_start, len(result))\n"
          ]
        }
      ]
    },
    {
      "cell_type": "markdown",
      "source": [
        "We have a problem with Negative posts. Based on results I think there is just small amount of them and the dataset is imbalanced. Lets see"
      ],
      "metadata": {
        "id": "MfOMoghu5Cjh"
      }
    },
    {
      "cell_type": "code",
      "source": [
        "import matplotlib\n",
        "matplotlib.pyplot.bar(['P', 'O', 'N'], df['Label'].value_counts().values, align='center')"
      ],
      "metadata": {
        "colab": {
          "base_uri": "https://localhost:8080/",
          "height": 282
        },
        "id": "96X7lyZI5mEq",
        "outputId": "d9719103-dfaa-4fa6-a6f0-3b6b9376f54f"
      },
      "execution_count": 92,
      "outputs": [
        {
          "output_type": "execute_result",
          "data": {
            "text/plain": [
              "<BarContainer object of 3 artists>"
            ]
          },
          "metadata": {},
          "execution_count": 92
        },
        {
          "output_type": "display_data",
          "data": {
            "text/plain": [
              "<Figure size 432x288 with 1 Axes>"
            ],
            "image/png": "[encoded data removed]"
          },
          "metadata": {
            "needs_background": "light"
          }
        }
      ]
    },
    {
      "cell_type": "markdown",
      "source": [
        "Of corse! So what can we do with that?\n",
        "\n",
        "Resampling. We can use resampling techniques to balance the class sizes by oversampling the minority class or undersampling the majority class. Oversampling involves creating more examples from the minority class, while undersampling involves removing examples from the majority class. In our case when we have small dataset we shoul do oversampling. \n",
        "\n",
        "Or we can do both and then do an ensemble that as for me is the best way.\n"
      ],
      "metadata": {
        "id": "_hYoZtU2-VOp"
      }
    },
    {
      "cell_type": "markdown",
      "source": [],
      "metadata": {
        "id": "aazJSa4yCclV"
      }
    },
    {
      "cell_type": "code",
      "source": [
        "from imblearn.over_sampling import RandomOverSampler\n",
        "ros = RandomOverSampler()\n",
        "X_resampled, y_resampled = ros.fit_resample(X_train, Y_train.values.ravel())\n"
      ],
      "metadata": {
        "id": "UIzcQ6HDC3CW"
      },
      "execution_count": null,
      "outputs": []
    },
    {
      "cell_type": "code",
      "source": [
        "import matplotlib\n",
        "matplotlib.pyplot.bar(['P', 'O', 'N'], y_resampled.value_counts().values, align='center')"
      ],
      "metadata": {
        "id": "03WjGR9HAIcQ"
      },
      "execution_count": null,
      "outputs": []
    },
    {
      "cell_type": "markdown",
      "source": [
        "So after all of this staff we could try to do ensamble and I shure I would get a really really better score"
      ],
      "metadata": {
        "id": "x_FY5Ky6D-Ta"
      }
    },
    {
      "cell_type": "code",
      "source": [],
      "metadata": {
        "id": "WwYSUDNH4P4t"
      },
      "execution_count": null,
      "outputs": []
    }
  ]
}